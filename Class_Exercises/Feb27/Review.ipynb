{
 "cells": [
  {
   "cell_type": "code",
   "execution_count": 1,
   "id": "d20983e2",
   "metadata": {},
   "outputs": [],
   "source": [
    "import numpy as np\n",
    "import matplotlib.pyplot as plt\n",
    "import librosa"
   ]
  },
  {
   "cell_type": "code",
   "execution_count": null,
   "id": "b0d93195",
   "metadata": {},
   "outputs": [],
   "source": [
    "# fun review"
   ]
  },
  {
   "cell_type": "code",
   "execution_count": null,
   "id": "4f1616de",
   "metadata": {},
   "outputs": [],
   "source": [
    "def get_stft(x, win, hop):\n",
    "    \"\"\"\n",
    "    Parameters\n",
    "    ----------\n",
    "    x: ndarray(N)\n",
    "        Audio array\n",
    "    win: int\n",
    "        Number of samples in each window\n",
    "    hop: int\n",
    "        Amount to shift in time from one window to the next\n",
    "    \"\"\"\n",
    "    # Height of my stft is win\n",
    "    # Width = (len(x) - win)/hop + 1\n",
    "    width = (len(x)-win)//hop + 1\n",
    "    S = np.zeros((win, width), dtype=complex)\n",
    "    for j in range(width):\n",
    "        xj = x[j*hop:j*hop+win]\n",
    "        S[:, j] = np.fft.fft(xj)\n",
    "    return S"
   ]
  }
 ],
 "metadata": {
  "kernelspec": {
   "display_name": "Python 3 (ipykernel)",
   "language": "python",
   "name": "python3"
  },
  "language_info": {
   "codemirror_mode": {
    "name": "ipython",
    "version": 3
   },
   "file_extension": ".py",
   "mimetype": "text/x-python",
   "name": "python",
   "nbconvert_exporter": "python",
   "pygments_lexer": "ipython3",
   "version": "3.10.4"
  }
 },
 "nbformat": 4,
 "nbformat_minor": 5
}
