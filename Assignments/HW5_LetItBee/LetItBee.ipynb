{
 "cells": [
  {
   "cell_type": "code",
   "execution_count": 1,
   "id": "a5d40af8",
   "metadata": {},
   "outputs": [],
   "source": [
    "import numpy as np\n",
    "import librosa\n",
    "import matplotlib.pyplot as plt\n",
    "import IPython.display as ipd"
   ]
  },
  {
   "cell_type": "markdown",
   "id": "95a5d79d",
   "metadata": {},
   "source": [
    "# Part 1: Basic Setup"
   ]
  },
  {
   "cell_type": "code",
   "execution_count": 3,
   "id": "7cca6cbc",
   "metadata": {},
   "outputs": [],
   "source": [
    "def do_nmf_kl(V, K, n_iters):\n",
    "    \"\"\"\n",
    "    Perform Kullback-Liebler nonnegative matrix factorization\n",
    "    \n",
    "    Parameters\n",
    "    ----------\n",
    "    V: ndarray(win, n_frames), nonnegative\n",
    "        Spectrogram amplitudes to factorize\n",
    "    K: int\n",
    "        Number of components to use\n",
    "    n_iters: int\n",
    "        Number of iterations to perform\n",
    "    \n",
    "    Returns\n",
    "    -------\n",
    "    W: ndarray(win, K), nonnegative\n",
    "        The spectral template columns\n",
    "    H: ndarray(K, n_frames), nonnegative\n",
    "        The activations over time\n",
    "    \"\"\"\n",
    "    win = V.shape[0]\n",
    "    W = np.random.rand(win, K)\n",
    "    H = np.random.rand(K, V.shape[1])\n",
    "    ## TODO: Apply multiplicative update rules n_iters times in a loop\n",
    "    #KL Divergence Version\n",
    "    for i in range(n_iters):\n",
    "        VL = V/(W.dot(H))\n",
    "        H *= (W.T).dot(VL)/np.sum(W, 0)[:, None]\n",
    "        W *= (VL.dot(H.T))/np.sum(H, 1)[None, :]\n",
    "    return W, H"
   ]
  },
  {
   "cell_type": "code",
   "execution_count": 6,
   "id": "b68f88e4",
   "metadata": {},
   "outputs": [
    {
     "ename": "ValueError",
     "evalue": "operands could not be broadcast together with shapes (1025,2866) (2,862) ",
     "output_type": "error",
     "traceback": [
      "\u001b[0;31m---------------------------------------------------------------------------\u001b[0m",
      "\u001b[0;31mValueError\u001b[0m                                Traceback (most recent call last)",
      "Cell \u001b[0;32mIn[6], line 19\u001b[0m\n\u001b[1;32m     17\u001b[0m V \u001b[38;5;241m=\u001b[39m np\u001b[38;5;241m.\u001b[39mabs(S)\n\u001b[1;32m     18\u001b[0m H \u001b[38;5;241m=\u001b[39m do_nmf_kl(V, \u001b[38;5;241m2\u001b[39m, L)[\u001b[38;5;241m1\u001b[39m]\n\u001b[0;32m---> 19\u001b[0m S \u001b[38;5;241m=\u001b[39m \u001b[43mWComplex\u001b[49m\u001b[43m \u001b[49m\u001b[38;5;241;43m*\u001b[39;49m\u001b[43m \u001b[49m\u001b[43mH\u001b[49m\n\u001b[1;32m     20\u001b[0m y \u001b[38;5;241m=\u001b[39m librosa\u001b[38;5;241m.\u001b[39mistft(S, hop_length\u001b[38;5;241m=\u001b[39mhop_length)\n\u001b[1;32m     22\u001b[0m ipd\u001b[38;5;241m.\u001b[39mAudio(y, rate\u001b[38;5;241m=\u001b[39msr)\n",
      "\u001b[0;31mValueError\u001b[0m: operands could not be broadcast together with shapes (1025,2866) (2,862) "
     ]
    }
   ],
   "source": [
    "win_length = 2048\n",
    "hop_length = 512\n",
    "L = 50 # Number of iterations\n",
    "y1, sr = librosa.load(\"Beatles_LetItBe.wav\")\n",
    "S = librosa.stft(y1, win_length=win_length, hop_length=hop_length)\n",
    "y2, sr = librosa.load(\"Bees_Buzzing.wav\")\n",
    "WComplex = librosa.stft(y2, win_length=win_length, hop_length=hop_length)\n",
    " \n",
    "## TODO: Create the musaic\n",
    "# 1. Compute the magnitude of WComplex; put into W\n",
    "# 2. Compute the magnitude of S; put into V\n",
    "# 3. perform Kullback-Liebler Divergence NMF 50 times; put into H\n",
    "# 4. multiply WComplex by H; put into S\n",
    "# 5. inverse S to get y\n",
    "# 6. play y\n",
    "W = np.abs(WComplex)\n",
    "V = np.abs(S)\n",
    "H = do_nmf_kl(V, 2, L)[1]\n",
    "S = WComplex * H\n",
    "y = librosa.istft(S, hop_length=hop_length)\n",
    "\n",
    "ipd.Audio(y, rate=sr)"
   ]
  }
 ],
 "metadata": {
  "kernelspec": {
   "display_name": "Python 3 (ipykernel)",
   "language": "python",
   "name": "python3"
  },
  "language_info": {
   "codemirror_mode": {
    "name": "ipython",
    "version": 3
   },
   "file_extension": ".py",
   "mimetype": "text/x-python",
   "name": "python",
   "nbconvert_exporter": "python",
   "pygments_lexer": "ipython3",
   "version": "3.10.4"
  }
 },
 "nbformat": 4,
 "nbformat_minor": 5
}
