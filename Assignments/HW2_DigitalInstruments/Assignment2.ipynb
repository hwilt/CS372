{
 "cells": [
  {
   "cell_type": "code",
   "execution_count": null,
   "id": "2660d3e4",
   "metadata": {},
   "outputs": [],
   "source": [
    "import IPython.display as ipd\n",
    "import numpy as np"
   ]
  },
  {
   "cell_type": "markdown",
   "id": "f3e36376",
   "metadata": {},
   "source": [
    "# Part 1: Karplus-Strong"
   ]
  },
  {
   "cell_type": "code",
   "execution_count": null,
   "id": "9d79d2ab",
   "metadata": {},
   "outputs": [],
   "source": [
    "def karplus_strong_note(sr, note, duration, decay):\n",
    "    \"\"\"\n",
    "    Parameters\n",
    "    ----------\n",
    "    sr: int\n",
    "        Sample rate\n",
    "    note: int\n",
    "        Note number.  0 is 440hz concert A\n",
    "    duration: float\n",
    "        Seconds of audio\n",
    "    decay: float \n",
    "        Decay amount (between 0 and 1)\n",
    "\n",
    "    Returns\n",
    "    -------\n",
    "    ndarray(N): Audio samples for this note\n",
    "    \"\"\"\n",
    "    N = int(duration*sr)\n",
    "    y = np.zeros(N)\n",
    "    ## TODO: Fill this in\n",
    "    T = int(sr/(440*2**(note/12)))\n",
    "    y[:T] = np.random.randn(T)\n",
    "    for i in range(T, N):\n",
    "        y[i] = decay * (y[i - T] + y[i - T + 1])/2\n",
    "    return y\n",
    "\n",
    "\n",
    "sr = 44100\n",
    "note = -12\n",
    "duration = 1\n",
    "decay = 0.98\n",
    "x = karplus_strong_note(sr, note, duration, decay)\n",
    "#plt.plot(x)\n",
    "#plt.show()\n",
    "ipd.Audio(x, rate=sr)"
   ]
  },
  {
   "cell_type": "markdown",
   "id": "0428b660",
   "metadata": {},
   "source": [
    "# Part 2: Tune Making"
   ]
  },
  {
   "cell_type": "code",
   "execution_count": null,
   "id": "e242fac5",
   "metadata": {},
   "outputs": [],
   "source": [
    "def make_tune(filename, sixteenth_len, sr, note_fn):\n",
    "    \"\"\"\n",
    "    Parameters\n",
    "    ----------\n",
    "    filename: string\n",
    "        Path to file containing the tune.  Consists of\n",
    "        rows of <note number> <note duration>, where\n",
    "        the note number 0 is a 440hz concert A, and the\n",
    "        note duration is in factors of 16th notes\n",
    "    sixteenth_len: float\n",
    "        Length of a sixteenth note, in seconds\n",
    "    sr: int\n",
    "        Sample rate\n",
    "    note_fn: function (sr, note, duration) -> ndarray(M)\n",
    "        A function that generates audio samples for a particular\n",
    "        note at a given sample rate and duration\n",
    "    \n",
    "    Returns\n",
    "    -------\n",
    "    ndarray(N): Audio containing the tune\n",
    "    \"\"\"\n",
    "    tune = np.loadtxt(filename)\n",
    "    notes = tune[:, 0]\n",
    "    durations = sixteenth_len*tune[:, 1]\n",
    "    ## TODO: Fill this in\n",
    "    y = np.array([])\n",
    "    for note, duration in zip(notes, durations):\n",
    "        if np.isnan(note):\n",
    "            y = np.concatenate((y, np.zeros(int(duration*sr))))\n",
    "        y = np.concatenate((y, note_fn(sr, note, duration)))\n",
    "    return y"
   ]
  },
  {
   "cell_type": "code",
   "execution_count": null,
   "id": "ad5c1f8d",
   "metadata": {},
   "outputs": [],
   "source": [
    "sr = 44100\n",
    "note_fn = lambda sr, note, duration: karplus_strong_note(sr, note, duration, 0.99)\n",
    "y = make_tune(\"Tunes/missy.txt\", 0.18, 44100, note_fn)\n",
    "ipd.Audio(y, rate=sr)"
   ]
  },
  {
   "cell_type": "code",
   "execution_count": null,
   "id": "ee771be9",
   "metadata": {},
   "outputs": [],
   "source": [
    "sr = 44100\n",
    "note_fn = lambda sr, note, duration: karplus_strong_note(sr, note-12, duration, 0.92)\n",
    "y = make_tune(\"Tunes/missy.txt\", 0.18, 44100, note_fn)\n",
    "ipd.Audio(y, rate=sr)"
   ]
  },
  {
   "cell_type": "markdown",
   "id": "c994b2a5",
   "metadata": {},
   "source": [
    "# Part 3: FM Synthesis Framework"
   ]
  },
  {
   "cell_type": "code",
   "execution_count": null,
   "id": "3c81aa98",
   "metadata": {},
   "outputs": [],
   "source": [
    "from instruments import *"
   ]
  },
  {
   "cell_type": "code",
   "execution_count": null,
   "id": "0ab96a9b",
   "metadata": {},
   "outputs": [],
   "source": [
    "def fm_synth_note(sr, note, duration, ratio=2, I=2, \n",
    "                  envelope = lambda N, sr: np.ones(N),\n",
    "                  amplitude = lambda N, sr: np.ones(N)):\n",
    "    \"\"\"\n",
    "    Parameters\n",
    "    ----------\n",
    "    sr: int\n",
    "        Sample rate\n",
    "    note: int\n",
    "        Note number.  0 is 440hz concert A\n",
    "    duration: float\n",
    "        Seconds of audio\n",
    "    ratio: float\n",
    "        Ratio of modulation frequency to carrier frequency\n",
    "    I: float\n",
    "        Modulation index (ratio of peak frequency deviation to\n",
    "        modulation frequency)\n",
    "    envelope: function (N, sr) -> ndarray(N)\n",
    "        A function for generating an ADSR profile\n",
    "    amplitude: function (N, sr) -> ndarray(N)\n",
    "        A function for generating a time-varying amplitude\n",
    "\n",
    "    Returns\n",
    "    -------\n",
    "    ndarray(N): Audio samples for this note\n",
    "    \"\"\"\n",
    "    N = int(duration*sr)\n",
    "    y = np.zeros(N)\n",
    "    ## TODO: Fill this in\n",
    "    fc = 440*2**(note/12)\n",
    "    fm = ratio*fc\n",
    "    t = np.arange(N)/sr\n",
    "    y = amplitude(N, sr)*np.cos(2*np.pi*fc*t + (envelope(N,sr)*I)*np.sin(2*np.pi*fm*t))\n",
    "    return y"
   ]
  },
  {
   "cell_type": "code",
   "execution_count": null,
   "id": "2391a238",
   "metadata": {},
   "outputs": [],
   "source": [
    "sr = 44100\n",
    "note_fn = lambda sr, note, duration: fm_plucked_string_note(sr, note, duration, 8)\n",
    "y = make_tune(\"Tunes/dangerzone.txt\", 0.1, 44100, note_fn)\n",
    "ipd.Audio(y, rate=sr)"
   ]
  },
  {
   "cell_type": "code",
   "execution_count": null,
   "id": "dae25fa3",
   "metadata": {},
   "outputs": [],
   "source": [
    "sr = 44100\n",
    "note_fn = lambda sr, note, duration: fm_plucked_string_note(sr, note-12, duration, 8)\n",
    "y = make_tune(\"Tunes/dangerzone.txt\", 0.1, 44100, note_fn)\n",
    "ipd.Audio(y, rate=sr)"
   ]
  },
  {
   "cell_type": "markdown",
   "id": "4ffa748e",
   "metadata": {},
   "source": [
    "# Part 4: FM Synthesis Instrument Zoo"
   ]
  },
  {
   "cell_type": "markdown",
   "id": "fad37580",
   "metadata": {},
   "source": [
    "## Electric Guitar"
   ]
  },
  {
   "cell_type": "code",
   "execution_count": null,
   "id": "cec7a399",
   "metadata": {},
   "outputs": [],
   "source": [
    "sr = 44100\n",
    "y = make_tune(\"Tunes/sweetchild.txt\", 0.12, 44100, fm_electric_guitar_note)\n",
    "ipd.Audio(y, rate=sr)"
   ]
  },
  {
   "cell_type": "markdown",
   "id": "e39a00cf",
   "metadata": {},
   "source": [
    "## Bell Notes"
   ]
  },
  {
   "cell_type": "code",
   "execution_count": null,
   "id": "0d1c3e3a",
   "metadata": {},
   "outputs": [],
   "source": [
    "sr = 44100\n",
    "y = make_tune(\"Tunes/westminster.txt\", 0.4, 44100, fm_bell_note)\n",
    "ipd.Audio(y, rate=sr)"
   ]
  },
  {
   "cell_type": "markdown",
   "id": "991710fe",
   "metadata": {},
   "source": [
    "## Brass Notes"
   ]
  },
  {
   "cell_type": "code",
   "execution_count": null,
   "id": "36c6146d",
   "metadata": {},
   "outputs": [],
   "source": [
    "sr = 44100\n",
    "y = make_tune(\"Tunes/usher.txt\", 0.25, 44100, fm_brass_note)\n",
    "ipd.Audio(y, rate=sr)"
   ]
  },
  {
   "cell_type": "code",
   "execution_count": null,
   "id": "7eeb6f22",
   "metadata": {},
   "outputs": [],
   "source": [
    "sr = 44100\n",
    "y = make_tune(\"Tunes/pictures.txt\", 0.15, 44100, fm_brass_note)\n",
    "ipd.Audio(y, rate=sr)"
   ]
  },
  {
   "cell_type": "markdown",
   "id": "8107761a",
   "metadata": {},
   "source": [
    "## Drum-Like Sound"
   ]
  },
  {
   "cell_type": "code",
   "execution_count": null,
   "id": "ccbcf3b9",
   "metadata": {},
   "outputs": [],
   "source": [
    "# Drum-like sound\n",
    "sr = 44100\n",
    "y = make_tune(\"Tunes/3on4.txt\", 0.2, 44100, fm_drum_sound)\n",
    "ipd.Audio(y, rate=sr)"
   ]
  },
  {
   "cell_type": "markdown",
   "id": "cc40a9e9",
   "metadata": {},
   "source": [
    "## Snare Drum Sound"
   ]
  },
  {
   "cell_type": "code",
   "execution_count": null,
   "id": "b9ffe861",
   "metadata": {},
   "outputs": [],
   "source": [
    "# Snare drum\n",
    "sr = 44100\n",
    "y = make_tune(\"Tunes/3on4.txt\", 0.2, 44100, snare_drum_sound)\n",
    "ipd.Audio(y, rate=sr)"
   ]
  },
  {
   "cell_type": "markdown",
   "id": "d4943421",
   "metadata": {},
   "source": [
    "## Wood Drum Sound"
   ]
  },
  {
   "cell_type": "code",
   "execution_count": null,
   "id": "59856e73",
   "metadata": {},
   "outputs": [],
   "source": [
    "# Wood Drum Sound\n",
    "sr = 44100\n",
    "y = make_tune(\"Tunes/3on4.txt\", 0.2, 44100, fm_wood_drum_sound)\n",
    "ipd.Audio(y, rate=sr)"
   ]
  },
  {
   "cell_type": "markdown",
   "id": "2944e0d0",
   "metadata": {},
   "source": [
    "## Dirty Bass Sound"
   ]
  },
  {
   "cell_type": "code",
   "execution_count": null,
   "id": "ef105b5f",
   "metadata": {},
   "outputs": [],
   "source": [
    "sr = 44100\n",
    "y = make_tune(\"Tunes/dirtybass.txt\", 0.25, 44100, fm_dirty_bass_note)\n",
    "ipd.Audio(y, rate=sr)"
   ]
  },
  {
   "cell_type": "markdown",
   "id": "8844b04a",
   "metadata": {},
   "source": [
    "# Part 5: Musical Statement"
   ]
  },
  {
   "cell_type": "code",
   "execution_count": null,
   "id": "588f0e13",
   "metadata": {},
   "outputs": [],
   "source": []
  }
 ],
 "metadata": {
  "kernelspec": {
   "display_name": "Python 3 (ipykernel)",
   "language": "python",
   "name": "python3"
  },
  "language_info": {
   "codemirror_mode": {
    "name": "ipython",
    "version": 3
   },
   "file_extension": ".py",
   "mimetype": "text/x-python",
   "name": "python",
   "nbconvert_exporter": "python",
   "pygments_lexer": "ipython3",
   "version": "3.10.4"
  }
 },
 "nbformat": 4,
 "nbformat_minor": 5
}
